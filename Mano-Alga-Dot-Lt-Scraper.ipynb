{
 "cells": [
  {
   "cell_type": "markdown",
   "id": "3d7e3c91-10af-484b-b4d5-872580669ad5",
   "metadata": {},
   "source": [
    "# manoalga.lt Scraper"
   ]
  },
  {
   "cell_type": "markdown",
   "id": "b57cbf66-3183-40af-8aa5-b66095f84b70",
   "metadata": {},
   "source": [
    "Extract salary information"
   ]
  },
  {
   "cell_type": "code",
   "execution_count": 11,
   "id": "d8aa93fa-cd02-4bf8-9025-58fc35591672",
   "metadata": {},
   "outputs": [],
   "source": [
    "import requests\n",
    "from bs4 import BeautifulSoup\n",
    "import pandas as pd\n",
    "from time import sleep"
   ]
  },
  {
   "cell_type": "markdown",
   "id": "dec81333-81f7-4c78-8d80-3835b111c19e",
   "metadata": {},
   "source": [
    "# Position categories"
   ]
  },
  {
   "cell_type": "code",
   "execution_count": 24,
   "id": "75beb8c1-a697-4686-a995-b817635351ee",
   "metadata": {},
   "outputs": [],
   "source": [
    "def get_response(url):\n",
    "    # request the raw html .. check for valid request\n",
    "    try:\n",
    "        response = requests.get(url)\n",
    "        if response.status_code != 200:\n",
    "            return None\n",
    "    except response.exceptions.ConnectionError:\n",
    "        return None\n",
    "\n",
    "    return response   "
   ]
  },
  {
   "cell_type": "code",
   "execution_count": 21,
   "id": "a12079e2-0afb-40cd-9dad-4658303c68fc",
   "metadata": {},
   "outputs": [],
   "source": [
    "def extract_categories():\n",
    "    categories_url = 'https://www.manoalga.lt/en/salaryinfo'\n",
    "    response_categories = get_response(categories_url)\n",
    "    if response_categories == None:\n",
    "        return []\n",
    "\n",
    "    # parse the html and extract categories data\n",
    "    categories = extract_group_items(response_categories)\n",
    "\n",
    "    # categories_column_names = ['category_name', 'category_url']\n",
    "    # return pd.DataFrame(categories, columns=categories_column_names)\n",
    "    return categories"
   ]
  },
  {
   "cell_type": "code",
   "execution_count": 4,
   "id": "6758c411-df1a-41f6-ac22-3c95184477dd",
   "metadata": {},
   "outputs": [],
   "source": [
    "def extract_category_info(category_url):\n",
    "    response_category = get_response(category_url)\n",
    "\n",
    "    category_info = extract_salary(response_category)\n",
    "    positions = extract_group_items(response_category)\n",
    "    \n",
    "    category_info['positions'] = positions\n",
    "    return category_info\n"
   ]
  },
  {
   "cell_type": "code",
   "execution_count": 5,
   "id": "30b9cfae-fe21-4237-974d-ad53234a8722",
   "metadata": {},
   "outputs": [],
   "source": [
    "def extract_group_items(response):\n",
    "    soup = BeautifulSoup(response.text, 'html.parser')\n",
    "    item_soup = soup.find_all(\"a\", class_=\"category-full\")\n",
    "\n",
    "    items = []\n",
    "    for i in item_soup:\n",
    "        if i:\n",
    "            name = i.find('h3').get_text()\n",
    "            url = i.get('href')\n",
    "            items.append({'name': name, 'url': url})\n",
    "    return items"
   ]
  },
  {
   "cell_type": "markdown",
   "id": "fa5f3625-e6dc-4eb2-9334-d8f849863eab",
   "metadata": {},
   "source": [
    "# Positions"
   ]
  },
  {
   "cell_type": "code",
   "execution_count": 31,
   "id": "72dce684-9440-4712-823c-ff66b806cb77",
   "metadata": {},
   "outputs": [],
   "source": [
    "def extract_salary(response):\n",
    "    # get min and max salary\n",
    "    soup = BeautifulSoup(response.text, 'html.parser')\n",
    "    salary_range = soup.find_all(\"span\", class_=\"value\")\n",
    "    if len(salary_range) == 2:\n",
    "        salary_min = salary_range[0].get('data-monthly-value')\n",
    "        salary_max = salary_range[1].get('data-monthly-value')\n",
    "        return {'min_salary': float(salary_min), 'max_salary': float(salary_max)}\n",
    "    return{}"
   ]
  },
  {
   "cell_type": "code",
   "execution_count": 7,
   "id": "71d88b3c-b39a-412b-8585-009f6dfead8b",
   "metadata": {},
   "outputs": [],
   "source": [
    "# request the raw html of position\n",
    "# response_position = requests.get(positions['position_url'][0])"
   ]
  },
  {
   "cell_type": "code",
   "execution_count": 8,
   "id": "580347e3-c4f2-4a79-b556-3eaf08fab1ec",
   "metadata": {},
   "outputs": [],
   "source": [
    "# get min and max salary for position\n",
    "# position_soup = BeautifulSoup(response_position.text, 'html.parser')\n",
    "# position_salary_range = position_soup.find_all(\"span\", class_=\"value\")\n",
    "# position_salary_min = position_salary_range[0].get('data-monthly-value')\n",
    "# position_salary_max = position_salary_range[1].get('data-monthly-value')\n",
    "# positions.loc[0, 'min_salary'] = float(position_salary_min)\n",
    "# positions.loc[0, 'max_salary'] = float(position_salary_max)\n",
    "# positions['avg_salary'] = (positions['min_salary'] + positions['max_salary'])/2\n",
    "# positions.loc[[0]]"
   ]
  },
  {
   "cell_type": "markdown",
   "id": "ec072248-f31d-4280-8a9b-9d8509e16675",
   "metadata": {},
   "source": [
    "# Data scraping functions"
   ]
  },
  {
   "cell_type": "code",
   "execution_count": 22,
   "id": "1f4b809a-fbd6-4509-bda7-a5f6fcc3d1bc",
   "metadata": {},
   "outputs": [],
   "source": [
    "def main():\n",
    "    categories = extract_categories()\n",
    "    \n",
    "    positions = []\n",
    "    for category_index, category in enumerate(categories):\n",
    "        category_info = extract_category_info(category['url'])\n",
    "        for position_index, position in enumerate(category_info.get('positions')):\n",
    "            position_salary = extract_salary(get_response(position['url']))\n",
    "            positions.append({\n",
    "                                'position_name': position['name'],\n",
    "                                'position_url': position['url'],\n",
    "                                'position_min_salary': position_salary.get('min_salary'),\n",
    "                                'position_max_salary': position_salary.get('max_salary'),\n",
    "                                'category_name': category['name'],\n",
    "                                'category_url': category['url'],\n",
    "                                'category_min_salary': category_info.get('min_salary'),\n",
    "                                'category_max_salary': category_info.get('max_salary'),\n",
    "                            })\n",
    "            sleep(0.5)\n",
    "        sleep(0.5)\n",
    "    \n",
    "    pd.DataFrame(positions).to_csv('position_list.csv', index=False)"
   ]
  },
  {
   "cell_type": "code",
   "execution_count": 32,
   "id": "3bdd8f1c-de4a-428b-92c9-7362cffe9d9f",
   "metadata": {},
   "outputs": [],
   "source": [
    "main()"
   ]
  }
 ],
 "metadata": {
  "kernelspec": {
   "display_name": "Python [conda env:jupyter_env] *",
   "language": "python",
   "name": "conda-env-jupyter_env-py"
  },
  "language_info": {
   "codemirror_mode": {
    "name": "ipython",
    "version": 3
   },
   "file_extension": ".py",
   "mimetype": "text/x-python",
   "name": "python",
   "nbconvert_exporter": "python",
   "pygments_lexer": "ipython3",
   "version": "3.12.7"
  }
 },
 "nbformat": 4,
 "nbformat_minor": 5
}
